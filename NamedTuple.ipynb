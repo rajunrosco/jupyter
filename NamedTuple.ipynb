{
 "cells": [
  {
   "cell_type": "code",
   "execution_count": 15,
   "metadata": {},
   "outputs": [
    {
     "name": "stdout",
     "output_type": "stream",
     "text": [
      "TValidPlatforms(win64='win64', ps4='ps4', xboxone='xboxone', switch='switch')\n",
      "TPoint(x=11, y=22)\n"
     ]
    }
   ],
   "source": [
    "import collections\n",
    "\n",
    "# recipe for creating a namedtuple with tuplefields named the same as a list of values\n",
    "_ValidPlatforms = ['win64', 'ps4', 'xboxone', 'switch']\n",
    "\n",
    "#Define namedtuple with predefined list\n",
    "TValidPlatforms = collections.namedtuple('TValidPlatforms', _ValidPlatforms)\n",
    "#Utilize the same list to fill the tuple\n",
    "ValidPlatforms = TValidPlatforms._make(_ValidPlatforms)\n",
    "\n",
    "print(ValidPlatforms)\n",
    "\n",
    "# Define namedtuple using string separated with comma\n",
    "TPoint = collections.namedtuple('TPoint','x,y')\n",
    "Point = TPoint(11,22)\n",
    "\n",
    "print(Point)"
   ]
  },
  {
   "cell_type": "code",
   "execution_count": 13,
   "metadata": {
    "scrolled": true
   },
   "outputs": [
    {
     "name": "stdout",
     "output_type": "stream",
     "text": [
      "win64\n",
      "win64\n",
      "win64\n"
     ]
    }
   ],
   "source": [
    "# Various methods of accessing namedtuples\n",
    "\n",
    "print(ValidPlatforms[0])\n",
    "print(ValidPlatforms.win64)\n",
    "print( getattr(ValidPlatforms,'win64'))"
   ]
  },
  {
   "cell_type": "code",
   "execution_count": null,
   "metadata": {},
   "outputs": [],
   "source": []
  }
 ],
 "metadata": {
  "kernelspec": {
   "display_name": "Python 3",
   "language": "python",
   "name": "python3"
  },
  "language_info": {
   "codemirror_mode": {
    "name": "ipython",
    "version": 3
   },
   "file_extension": ".py",
   "mimetype": "text/x-python",
   "name": "python",
   "nbconvert_exporter": "python",
   "pygments_lexer": "ipython3",
   "version": "3.6.6"
  }
 },
 "nbformat": 4,
 "nbformat_minor": 2
}
